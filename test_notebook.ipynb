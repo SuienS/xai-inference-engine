{
 "cells": [
  {
   "cell_type": "code",
   "execution_count": 1,
   "metadata": {},
   "outputs": [],
   "source": [
    "from PIL import Image\n",
    "import torch\n",
    "from torchvision.models import resnet50, ResNet50_Weights\n",
    "\n",
    "import requests"
   ]
  },
  {
   "cell_type": "code",
   "execution_count": 2,
   "metadata": {},
   "outputs": [],
   "source": [
    "device = torch.device(\"cuda:0\" if torch.cuda.is_available() else \"cpu\")"
   ]
  },
  {
   "cell_type": "code",
   "execution_count": 3,
   "metadata": {},
   "outputs": [],
   "source": [
    "from xai_inference_engine import XAIInferenceEngine"
   ]
  },
  {
   "cell_type": "code",
   "execution_count": 4,
   "metadata": {},
   "outputs": [],
   "source": [
    "# Model\n",
    "model = resnet50(weights=ResNet50_Weights.IMAGENET1K_V2).to(device)\n",
    "weights = ResNet50_Weights.DEFAULT\n",
    "preprocess = weights.transforms()\n",
    "\n",
    "# Model config\n",
    "# Set model to eval mode\n",
    "model.eval()\n",
    "last_conv_layer = model.layer4[2].conv3\n",
    "class_count = 5\n",
    "class_list = weights.meta[\"categories\"]\n",
    "img_h = 224\n",
    "\n",
    "# Image Preprocessing\n",
    "url = \"https://raw.githubusercontent.com/utkuozbulak/pytorch-cnn-visualizations/master/input_images/cat_dog.png\"\n",
    "r = requests.get(url, allow_redirects=True)\n",
    "open(\"dog-and-cat-cover.jpg\", \"wb\").write(r.content)\n",
    "img = Image.open(\"dog-and-cat-cover.jpg\")\n",
    "img = img.resize((img_h, img_h), resample=Image.BICUBIC)\n",
    "img_tensor = preprocess(img).to(device)"
   ]
  },
  {
   "cell_type": "code",
   "execution_count": 5,
   "metadata": {},
   "outputs": [],
   "source": [
    "xai_inferencer = XAIInferenceEngine(\n",
    "    model=model,\n",
    "    last_conv_layer=last_conv_layer,\n",
    "    device=device,\n",
    ")"
   ]
  },
  {
   "cell_type": "code",
   "execution_count": null,
   "metadata": {},
   "outputs": [],
   "source": []
  },
  {
   "cell_type": "code",
   "execution_count": 6,
   "metadata": {},
   "outputs": [
    {
     "ename": "",
     "evalue": "",
     "output_type": "error",
     "traceback": [
      "\u001b[1;31mThe Kernel crashed while executing code in the the current cell or a previous cell. Please review the code in the cell(s) to identify a possible cause of the failure. Click <a href='https://aka.ms/vscodeJupyterKernelCrash'>here</a> for more info. View Jupyter <a href='command:jupyter.viewOutput'>log</a> for further details."
     ]
    }
   ],
   "source": [
    "preds, sorted_pred_indices, super_imp_img, saliency_maps = xai_inferencer.predict(\n",
    "    img=img,\n",
    "    img_tensor=img_tensor,\n",
    ")"
   ]
  },
  {
   "cell_type": "code",
   "execution_count": null,
   "metadata": {},
   "outputs": [],
   "source": [
    "print(\"[INFO]: Displaying Results...\")\n",
    "print(\"Predictions: {}\".format(preds.shape))\n",
    "print(\"Sorted Prediction Indices: {}\".format(sorted_pred_indices.cpu().numpy()[:10]))\n",
    "print(\"Heatmaps shape: {}\".format(saliency_maps))\n",
    "print(\"Super Imposed Image: {}\".format(super_imp_img))"
   ]
  },
  {
   "cell_type": "code",
   "execution_count": null,
   "metadata": {},
   "outputs": [],
   "source": []
  }
 ],
 "metadata": {
  "kernelspec": {
   "display_name": "venv",
   "language": "python",
   "name": "python3"
  },
  "language_info": {
   "codemirror_mode": {
    "name": "ipython",
    "version": 3
   },
   "file_extension": ".py",
   "mimetype": "text/x-python",
   "name": "python",
   "nbconvert_exporter": "python",
   "pygments_lexer": "ipython3",
   "version": "3.10.5"
  },
  "orig_nbformat": 4
 },
 "nbformat": 4,
 "nbformat_minor": 2
}
